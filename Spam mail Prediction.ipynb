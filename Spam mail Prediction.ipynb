{
 "cells": [
  {
   "cell_type": "code",
   "execution_count": 1,
   "id": "b991b7bf",
   "metadata": {},
   "outputs": [],
   "source": [
    "import numpy as np\n",
    "import pandas as pd\n",
    "from sklearn.model_selection import train_test_split\n",
    "from sklearn.feature_extraction.text import TfidfVectorizer\n",
    "from sklearn.linear_model import LogisticRegression\n",
    "from sklearn.metrics import accuracy_score"
   ]
  },
  {
   "cell_type": "code",
   "execution_count": 3,
   "id": "6adc830a",
   "metadata": {},
   "outputs": [],
   "source": [
    "mail_data = pd.read_csv('mail_data.csv')"
   ]
  },
  {
   "cell_type": "code",
   "execution_count": 5,
   "id": "d64457f8",
   "metadata": {},
   "outputs": [
    {
     "data": {
      "text/html": [
       "<div>\n",
       "<style scoped>\n",
       "    .dataframe tbody tr th:only-of-type {\n",
       "        vertical-align: middle;\n",
       "    }\n",
       "\n",
       "    .dataframe tbody tr th {\n",
       "        vertical-align: top;\n",
       "    }\n",
       "\n",
       "    .dataframe thead th {\n",
       "        text-align: right;\n",
       "    }\n",
       "</style>\n",
       "<table border=\"1\" class=\"dataframe\">\n",
       "  <thead>\n",
       "    <tr style=\"text-align: right;\">\n",
       "      <th></th>\n",
       "      <th>Category</th>\n",
       "      <th>Message</th>\n",
       "    </tr>\n",
       "  </thead>\n",
       "  <tbody>\n",
       "    <tr>\n",
       "      <th>0</th>\n",
       "      <td>ham</td>\n",
       "      <td>Go until jurong point, crazy.. Available only ...</td>\n",
       "    </tr>\n",
       "    <tr>\n",
       "      <th>1</th>\n",
       "      <td>ham</td>\n",
       "      <td>Ok lar... Joking wif u oni...</td>\n",
       "    </tr>\n",
       "    <tr>\n",
       "      <th>2</th>\n",
       "      <td>spam</td>\n",
       "      <td>Free entry in 2 a wkly comp to win FA Cup fina...</td>\n",
       "    </tr>\n",
       "    <tr>\n",
       "      <th>3</th>\n",
       "      <td>ham</td>\n",
       "      <td>U dun say so early hor... U c already then say...</td>\n",
       "    </tr>\n",
       "    <tr>\n",
       "      <th>4</th>\n",
       "      <td>ham</td>\n",
       "      <td>Nah I don't think he goes to usf, he lives aro...</td>\n",
       "    </tr>\n",
       "  </tbody>\n",
       "</table>\n",
       "</div>"
      ],
      "text/plain": [
       "  Category                                            Message\n",
       "0      ham  Go until jurong point, crazy.. Available only ...\n",
       "1      ham                      Ok lar... Joking wif u oni...\n",
       "2     spam  Free entry in 2 a wkly comp to win FA Cup fina...\n",
       "3      ham  U dun say so early hor... U c already then say...\n",
       "4      ham  Nah I don't think he goes to usf, he lives aro..."
      ]
     },
     "execution_count": 5,
     "metadata": {},
     "output_type": "execute_result"
    }
   ],
   "source": [
    "mail_data.head()"
   ]
  },
  {
   "cell_type": "code",
   "execution_count": 6,
   "id": "69d1288d",
   "metadata": {},
   "outputs": [
    {
     "data": {
      "text/html": [
       "<div>\n",
       "<style scoped>\n",
       "    .dataframe tbody tr th:only-of-type {\n",
       "        vertical-align: middle;\n",
       "    }\n",
       "\n",
       "    .dataframe tbody tr th {\n",
       "        vertical-align: top;\n",
       "    }\n",
       "\n",
       "    .dataframe thead th {\n",
       "        text-align: right;\n",
       "    }\n",
       "</style>\n",
       "<table border=\"1\" class=\"dataframe\">\n",
       "  <thead>\n",
       "    <tr style=\"text-align: right;\">\n",
       "      <th></th>\n",
       "      <th>Category</th>\n",
       "      <th>Message</th>\n",
       "    </tr>\n",
       "  </thead>\n",
       "  <tbody>\n",
       "    <tr>\n",
       "      <th>5567</th>\n",
       "      <td>spam</td>\n",
       "      <td>This is the 2nd time we have tried 2 contact u...</td>\n",
       "    </tr>\n",
       "    <tr>\n",
       "      <th>5568</th>\n",
       "      <td>ham</td>\n",
       "      <td>Will ü b going to esplanade fr home?</td>\n",
       "    </tr>\n",
       "    <tr>\n",
       "      <th>5569</th>\n",
       "      <td>ham</td>\n",
       "      <td>Pity, * was in mood for that. So...any other s...</td>\n",
       "    </tr>\n",
       "    <tr>\n",
       "      <th>5570</th>\n",
       "      <td>ham</td>\n",
       "      <td>The guy did some bitching but I acted like i'd...</td>\n",
       "    </tr>\n",
       "    <tr>\n",
       "      <th>5571</th>\n",
       "      <td>ham</td>\n",
       "      <td>Rofl. Its true to its name</td>\n",
       "    </tr>\n",
       "  </tbody>\n",
       "</table>\n",
       "</div>"
      ],
      "text/plain": [
       "     Category                                            Message\n",
       "5567     spam  This is the 2nd time we have tried 2 contact u...\n",
       "5568      ham               Will ü b going to esplanade fr home?\n",
       "5569      ham  Pity, * was in mood for that. So...any other s...\n",
       "5570      ham  The guy did some bitching but I acted like i'd...\n",
       "5571      ham                         Rofl. Its true to its name"
      ]
     },
     "execution_count": 6,
     "metadata": {},
     "output_type": "execute_result"
    }
   ],
   "source": [
    "mail_data.tail()"
   ]
  },
  {
   "cell_type": "code",
   "execution_count": 7,
   "id": "566318fb",
   "metadata": {},
   "outputs": [
    {
     "data": {
      "text/plain": [
       "(5572, 2)"
      ]
     },
     "execution_count": 7,
     "metadata": {},
     "output_type": "execute_result"
    }
   ],
   "source": [
    "mail_data.shape"
   ]
  },
  {
   "cell_type": "code",
   "execution_count": 10,
   "id": "de53efe3",
   "metadata": {},
   "outputs": [],
   "source": [
    "mail_data.loc[mail_data['Category']=='spam','Category',]=0\n",
    "mail_data.loc[mail_data['Category']=='ham','Category',]=1"
   ]
  },
  {
   "cell_type": "code",
   "execution_count": 11,
   "id": "ef022d51",
   "metadata": {},
   "outputs": [],
   "source": [
    "X=mail_data['Message']\n",
    "Y=mail_data['Category']"
   ]
  },
  {
   "cell_type": "code",
   "execution_count": 12,
   "id": "d4fa71e7",
   "metadata": {},
   "outputs": [
    {
     "name": "stdout",
     "output_type": "stream",
     "text": [
      "0       Go until jurong point, crazy.. Available only ...\n",
      "1                           Ok lar... Joking wif u oni...\n",
      "2       Free entry in 2 a wkly comp to win FA Cup fina...\n",
      "3       U dun say so early hor... U c already then say...\n",
      "4       Nah I don't think he goes to usf, he lives aro...\n",
      "                              ...                        \n",
      "5567    This is the 2nd time we have tried 2 contact u...\n",
      "5568                 Will ü b going to esplanade fr home?\n",
      "5569    Pity, * was in mood for that. So...any other s...\n",
      "5570    The guy did some bitching but I acted like i'd...\n",
      "5571                           Rofl. Its true to its name\n",
      "Name: Message, Length: 5572, dtype: object\n"
     ]
    }
   ],
   "source": [
    "print(X)"
   ]
  },
  {
   "cell_type": "code",
   "execution_count": 13,
   "id": "d43b0684",
   "metadata": {},
   "outputs": [
    {
     "data": {
      "text/plain": [
       "0       1\n",
       "1       1\n",
       "2       0\n",
       "3       1\n",
       "4       1\n",
       "       ..\n",
       "5567    0\n",
       "5568    1\n",
       "5569    1\n",
       "5570    1\n",
       "5571    1\n",
       "Name: Category, Length: 5572, dtype: object"
      ]
     },
     "execution_count": 13,
     "metadata": {},
     "output_type": "execute_result"
    }
   ],
   "source": [
    "Y"
   ]
  },
  {
   "cell_type": "code",
   "execution_count": 22,
   "id": "8668cc48",
   "metadata": {},
   "outputs": [
    {
     "data": {
      "text/plain": [
       "1    4825\n",
       "0     747\n",
       "Name: Category, dtype: int64"
      ]
     },
     "execution_count": 22,
     "metadata": {},
     "output_type": "execute_result"
    }
   ],
   "source": [
    "Y.value_counts()"
   ]
  },
  {
   "cell_type": "code",
   "execution_count": 23,
   "id": "e0a259ce",
   "metadata": {},
   "outputs": [],
   "source": [
    "X_train,X_test,Y_train,Y_test = train_test_split(X,Y,test_size=0.2,stratify=Y,random_state=2)"
   ]
  },
  {
   "cell_type": "code",
   "execution_count": 25,
   "id": "183fa005",
   "metadata": {},
   "outputs": [
    {
     "name": "stdout",
     "output_type": "stream",
     "text": [
      "(5572,) (4457,) (1115,)\n"
     ]
    }
   ],
   "source": [
    "print(X.shape,X_train.shape,X_test.shape)"
   ]
  },
  {
   "cell_type": "code",
   "execution_count": 26,
   "id": "c0f1e0d6",
   "metadata": {},
   "outputs": [],
   "source": [
    "feature_extraction = TfidfVectorizer(min_df=1,stop_words='english',lowercase='True')\n",
    "\n",
    "X_train_features = feature_extraction.fit_transform(X_train)\n",
    "X_test_features = feature_extraction.transform(X_test)\n",
    "\n",
    "Y_train = Y_train.astype('int')\n",
    "Y_test = Y_test.astype('int')"
   ]
  },
  {
   "cell_type": "code",
   "execution_count": 27,
   "id": "fc7695ee",
   "metadata": {},
   "outputs": [
    {
     "data": {
      "text/plain": [
       "5426        Oh yeah! And my diet just flew out the window\n",
       "4724                     HELLO PEACH! MY CAKE TASTS LUSH!\n",
       "536     Good afternoon, my love! How goes that day ? I...\n",
       "3488                        Change windows logoff sound..\n",
       "2551    Please sen :)my kind advice :-)please come her...\n",
       "                              ...                        \n",
       "1697    Sorry man, my stash ran dry last night and I c...\n",
       "422     Someone has contacted our dating service and e...\n",
       "4007    IM FINE BABES AINT BEEN UP 2 MUCH THO! SAW SCA...\n",
       "3474                      You getting back any time soon?\n",
       "3074           Somebody should go to andros and steal ice\n",
       "Name: Message, Length: 4457, dtype: object"
      ]
     },
     "execution_count": 27,
     "metadata": {},
     "output_type": "execute_result"
    }
   ],
   "source": [
    "X_train"
   ]
  },
  {
   "cell_type": "code",
   "execution_count": 29,
   "id": "e8224c85",
   "metadata": {},
   "outputs": [
    {
     "name": "stdout",
     "output_type": "stream",
     "text": [
      "  (0, 7289)\t0.517250079608171\n",
      "  (0, 2823)\t0.517250079608171\n",
      "  (0, 3764)\t0.22046319970004674\n",
      "  (0, 2262)\t0.4931693086193514\n",
      "  (0, 7438)\t0.2996693624522655\n",
      "  (0, 4768)\t0.28858793133473676\n",
      "  (1, 4136)\t0.4717788963273522\n",
      "  (1, 6517)\t0.49481520325330863\n",
      "  (1, 1558)\t0.4236400720998954\n",
      "  (1, 4972)\t0.49481520325330863\n",
      "  (1, 3317)\t0.32904344933475643\n",
      "  (2, 5798)\t0.2821824162510531\n",
      "  (2, 3835)\t0.2623708342584191\n",
      "  (2, 4943)\t0.33789703751914013\n",
      "  (2, 5837)\t0.1845655907506494\n",
      "  (2, 1430)\t0.28509060215711635\n",
      "  (2, 6641)\t0.20096909705626312\n",
      "  (2, 3722)\t0.24768901862403342\n",
      "  (2, 3935)\t0.3671145612703168\n",
      "  (2, 3118)\t0.18009671431232455\n",
      "  (2, 4269)\t0.2543939099135892\n",
      "  (2, 3398)\t0.20665621299033204\n",
      "  (2, 2136)\t0.180851695270251\n",
      "  (2, 3086)\t0.27449720225122765\n",
      "  (2, 4099)\t0.186263215205624\n",
      "  :\t:\n",
      "  (4454, 5765)\t0.27366476899994313\n",
      "  (4454, 4205)\t0.27366476899994313\n",
      "  (4454, 6404)\t0.2834859847167938\n",
      "  (4454, 387)\t0.2598225428978842\n",
      "  (4454, 865)\t0.26604684225670366\n",
      "  (4454, 2972)\t0.2598225428978842\n",
      "  (4454, 6656)\t0.22854117433573515\n",
      "  (4454, 5362)\t0.20976307084423884\n",
      "  (4454, 2788)\t0.1933908630347447\n",
      "  (4454, 4477)\t0.226337885362124\n",
      "  (4454, 7449)\t0.2545599727746228\n",
      "  (4454, 6793)\t0.2084746488748568\n",
      "  (4454, 7413)\t0.2242682135068801\n",
      "  (4454, 1150)\t0.2598225428978842\n",
      "  (4454, 5753)\t0.226337885362124\n",
      "  (4454, 7163)\t0.15016127837290247\n",
      "  (4454, 3514)\t0.17954863693268575\n",
      "  (4454, 841)\t0.21705430485365426\n",
      "  (4455, 3045)\t0.6369939076061825\n",
      "  (4455, 6132)\t0.6072176947981238\n",
      "  (4455, 6694)\t0.4748951808522163\n",
      "  (4456, 6279)\t0.5478925290776959\n",
      "  (4456, 935)\t0.5478925290776959\n",
      "  (4456, 6115)\t0.4406487953685031\n",
      "  (4456, 3484)\t0.45327275707015463\n"
     ]
    }
   ],
   "source": [
    "print(X_train_features)"
   ]
  },
  {
   "cell_type": "code",
   "execution_count": 30,
   "id": "c82a6019",
   "metadata": {},
   "outputs": [],
   "source": [
    "model = LogisticRegression()"
   ]
  },
  {
   "cell_type": "code",
   "execution_count": 33,
   "id": "052d6f5e",
   "metadata": {},
   "outputs": [
    {
     "data": {
      "text/plain": [
       "LogisticRegression()"
      ]
     },
     "execution_count": 33,
     "metadata": {},
     "output_type": "execute_result"
    }
   ],
   "source": [
    "model.fit(X_train_features,Y_train)"
   ]
  },
  {
   "cell_type": "code",
   "execution_count": 34,
   "id": "613d5b49",
   "metadata": {},
   "outputs": [],
   "source": [
    "prediction_on_Trained_data = model.predict(X_train_features)\n",
    "accuracy_of_trained_data = accuracy_score(Y_train,prediction_on_Trained_data)"
   ]
  },
  {
   "cell_type": "code",
   "execution_count": 37,
   "id": "f64d5a90",
   "metadata": {},
   "outputs": [
    {
     "name": "stdout",
     "output_type": "stream",
     "text": [
      "Accuracy of Trained Data:  0.9672425398249944\n"
     ]
    }
   ],
   "source": [
    "print('Accuracy of Trained Data: ',accuracy_of_trained_data)"
   ]
  },
  {
   "cell_type": "code",
   "execution_count": 40,
   "id": "55bc91e7",
   "metadata": {},
   "outputs": [
    {
     "name": "stdout",
     "output_type": "stream",
     "text": [
      "This is a Spam mail\n"
     ]
    }
   ],
   "source": [
    "input_mail = ['Had your mobile 11 months or more? U R entitled to Update to the latest colour mobiles with camera for Free! Call The Mobile Update Co FREE on 08002986030']\n",
    "             \n",
    "              \n",
    "input_mail_features = feature_extraction.transform(input_mail)\n",
    "\n",
    "prediction = model.predict(input_mail_features)\n",
    "\n",
    "if(prediction[0] == 1):\n",
    "    print('This is a Ham mail')\n",
    "else:\n",
    "    print('This is a Spam mail')\n",
    "\n"
   ]
  }
 ],
 "metadata": {
  "kernelspec": {
   "display_name": "Python 3 (ipykernel)",
   "language": "python",
   "name": "python3"
  },
  "language_info": {
   "codemirror_mode": {
    "name": "ipython",
    "version": 3
   },
   "file_extension": ".py",
   "mimetype": "text/x-python",
   "name": "python",
   "nbconvert_exporter": "python",
   "pygments_lexer": "ipython3",
   "version": "3.9.7"
  }
 },
 "nbformat": 4,
 "nbformat_minor": 5
}
